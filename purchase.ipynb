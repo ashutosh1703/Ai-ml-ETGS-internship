{
 "cells": [
  {
   "cell_type": "code",
   "execution_count": 6,
   "id": "c295b460",
   "metadata": {},
   "outputs": [],
   "source": [
    "import json"
   ]
  },
  {
   "cell_type": "code",
   "execution_count": 7,
   "id": "c8edf7f2",
   "metadata": {},
   "outputs": [],
   "source": [
    "fd = open(\"record1.json\",'r')\n",
    "r = fd.read()\n",
    "fd.close()\n",
    "\n",
    "record1 = json.loads(r)"
   ]
  },
  {
   "cell_type": "markdown",
   "id": "94cb0bf6",
   "metadata": {},
   "source": [
    "# purchase\n"
   ]
  },
  {
   "cell_type": "code",
   "execution_count": 8,
   "id": "4c2a68b1",
   "metadata": {},
   "outputs": [
    {
     "name": "stdout",
     "output_type": "stream",
     "text": [
      "enter the range  1.5000-10000 2.10000-20000 3.20000-30000 4.30000-40000 5.40000-50000 6.50000-100000:20000-30000\n",
      "enter the company: vivo\n",
      "units to purchase: 10\n",
      "$$$$$$$$$$$$$\n",
      "Amount range 20000-30000\n",
      "Company name:  vivo\n",
      "Billing Amount:  265780\n",
      "Mon Sep  6 21:37:52 2021\n",
      "$$$$$$$$$$$$$\n"
     ]
    }
   ],
   "source": [
    "import json\n",
    "import time\n",
    "amt_range=str(input(\"enter the range  1.5000-10000 2.10000-20000 3.20000-30000 4.30000-40000 5.40000-50000 6.50000-100000:\"))\n",
    "cmp=str(input(\"enter the company: \"))\n",
    "un=int(input(\"units to purchase: \"))\n",
    "if(un>record1[amt_range][cmp]['units']):\n",
    "    print(\"enterd number more than stock\")\n",
    "else:\n",
    "    print(\"$$$$$$$$$$$$$\")\n",
    "    print(\"Amount range\",amt_range)\n",
    "    print(\"Company name: \", cmp)\n",
    "    print(\"Billing Amount: \", record1[amt_range][cmp]['amt'] * un)\n",
    "    print(time.ctime())\n",
    "    print(\"$$$$$$$$$$$$$\")\n",
    "    record1[amt_range][cmp]['units']=record1[amt_range][cmp]['units']-un\n",
    "    js=json.dumps(record1)\n",
    "    fd = open(\"record1.json\",'w')\n",
    "    fd.write(js)\n",
    "      \n",
    "    fd.close()"
   ]
  }
 ],
 "metadata": {
  "kernelspec": {
   "display_name": "Python 3",
   "language": "python",
   "name": "python3"
  },
  "language_info": {
   "codemirror_mode": {
    "name": "ipython",
    "version": 3
   },
   "file_extension": ".py",
   "mimetype": "text/x-python",
   "name": "python",
   "nbconvert_exporter": "python",
   "pygments_lexer": "ipython3",
   "version": "3.8.8"
  }
 },
 "nbformat": 4,
 "nbformat_minor": 5
}
