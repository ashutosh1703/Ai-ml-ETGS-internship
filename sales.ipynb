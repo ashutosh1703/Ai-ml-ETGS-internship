{
 "cells": [
  {
   "cell_type": "markdown",
   "id": "5e4f3c14",
   "metadata": {},
   "source": [
    "# sales"
   ]
  },
  {
   "cell_type": "code",
   "execution_count": 15,
   "id": "37105280",
   "metadata": {},
   "outputs": [],
   "source": [
    "import json\n",
    "\n",
    "fd = open(\"sales.json\",'r')\n",
    "r = fd.read()\n",
    "fd.close() "
   ]
  },
  {
   "cell_type": "code",
   "execution_count": 16,
   "id": "6135a3ad",
   "metadata": {},
   "outputs": [
    {
     "name": "stdout",
     "output_type": "stream",
     "text": [
      "enter the range  1.5000-10000 2.10000-20000 3.20000-30000 4.30000-40000 5.40000-50000 6.50000-100000:30000-40000\n",
      "enter the company: oppo\n",
      "units to purchase: 10\n",
      "$$$$$$$$$$$$$\n",
      "Amount range 30000-40000\n",
      "Company name:  oppo\n",
      "Billing Amount:  387690\n",
      "Mon Sep  6 21:38:30 2021\n",
      "$$$$$$$$$$$$$\n",
      "purchased item is  {'model': 'yt54', 'color': 'pink', 'specs': 6128, 'units': 47, 'amt': 38769}\n"
     ]
    }
   ],
   "source": [
    "import json\n",
    "import time\n",
    "amt_range=str(input(\"enter the range  1.5000-10000 2.10000-20000 3.20000-30000 4.30000-40000 5.40000-50000 6.50000-100000:\"))\n",
    "cmp=str(input(\"enter the company: \"))\n",
    "un=int(input(\"units to purchase: \"))\n",
    "if(un>record1[amt_range][cmp]['units']):\n",
    "    print(\"enterd number more than stock\")\n",
    "else:\n",
    "    print(\"$$$$$$$$$$$$$\")\n",
    "    print(\"Amount range\",amt_range)\n",
    "    print(\"Company name: \", cmp)\n",
    "    print(\"Billing Amount: \", record1[amt_range][cmp]['amt'] * un)\n",
    "    print(time.ctime())\n",
    "    print(\"$$$$$$$$$$$$$\")\n",
    "    record1[amt_range][cmp]['units']=record1[amt_range][cmp]['units']-un\n",
    "    js=json.dumps(record1)\n",
    "    fd = open(\"record1.json\",'w')\n",
    "    fd.write(js)\n",
    "      \n",
    "    fd.close()\n",
    "    sales = record1[amt_range][cmp]\n",
    "    js = json.dumps(sales)\n",
    "    fd = open(\"sales.json\",'w')\n",
    "\n",
    "    fd.write(js)\n",
    "\n",
    "    fd.close()\n",
    "    print(\"purchased item is \",sales)    "
   ]
  },
  {
   "cell_type": "code",
   "execution_count": 17,
   "id": "167b5bce",
   "metadata": {},
   "outputs": [],
   "source": [
    "sales = record1[amt_range][cmp]"
   ]
  },
  {
   "cell_type": "code",
   "execution_count": 18,
   "id": "57790b3e",
   "metadata": {},
   "outputs": [],
   "source": [
    "import json \n",
    "js = json.dumps(sales)\n",
    "fd = open(\"sales.json\",'w')\n",
    "\n",
    "fd.write(js)\n",
    "\n",
    "fd.close()"
   ]
  },
  {
   "cell_type": "code",
   "execution_count": 19,
   "id": "414cb020",
   "metadata": {},
   "outputs": [
    {
     "data": {
      "text/plain": [
       "{'model': 'yt54', 'color': 'pink', 'specs': 6128, 'units': 47, 'amt': 38769}"
      ]
     },
     "execution_count": 19,
     "metadata": {},
     "output_type": "execute_result"
    }
   ],
   "source": [
    "sales"
   ]
  }
 ],
 "metadata": {
  "kernelspec": {
   "display_name": "Python 3",
   "language": "python",
   "name": "python3"
  },
  "language_info": {
   "codemirror_mode": {
    "name": "ipython",
    "version": 3
   },
   "file_extension": ".py",
   "mimetype": "text/x-python",
   "name": "python",
   "nbconvert_exporter": "python",
   "pygments_lexer": "ipython3",
   "version": "3.8.8"
  }
 },
 "nbformat": 4,
 "nbformat_minor": 5
}
